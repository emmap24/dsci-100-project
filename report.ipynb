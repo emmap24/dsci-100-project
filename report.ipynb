{
 "cells": [
  {
   "cell_type": "markdown",
   "id": "d4205055-fbb7-445a-87e1-05d76bab1c34",
   "metadata": {},
   "source": [
    "# Project Report"
   ]
  },
  {
   "cell_type": "markdown",
   "id": "aeed2f00-de1f-43f4-b8e9-f1ab8727c6f3",
   "metadata": {},
   "source": [
    "## Title"
   ]
  },
  {
   "cell_type": "markdown",
   "id": "793c4a90-f7a9-41ec-b5c4-ea010299a367",
   "metadata": {},
   "source": [
    "**Emma Pohl (53722211)**\n",
    "<br> DSCI100 002 - S25\n",
    "<br> Link to Project GitHub Repository: "
   ]
  },
  {
   "cell_type": "markdown",
   "id": "ad27ad6d-078d-41c0-8384-95b89e6e84b2",
   "metadata": {},
   "source": [
    "## Introduction"
   ]
  },
  {
   "cell_type": "markdown",
   "id": "3396aa1f-9bc1-4a4b-91fe-21152bb57e68",
   "metadata": {},
   "source": [
    "### Background\n",
    "a"
   ]
  },
  {
   "cell_type": "markdown",
   "id": "bc144d94-8002-4192-8903-007aab95135c",
   "metadata": {},
   "source": [
    "### Question\n",
    "**Broad Question:** We would like to know which \"kinds\" of players are most likely to contribute a large amount of data so that we can target those players in our recruiting efforts. (Question 2)\n",
    "\n",
    "**Specific Question:** Does experience, gender, or age play the largest role in the amount of hours of MineCraft played?"
   ]
  },
  {
   "cell_type": "markdown",
   "id": "a84a44f6-a974-4b9f-9b38-83dc4509704e",
   "metadata": {
    "jp-MarkdownHeadingCollapsed": true
   },
   "source": [
    "### Data Description\n",
    "\n",
    "The first data set, `players.csv` is a summary of each of the players' profiles, allowing their hashed email identifier to be linked to the player profile. It is a CSV file with 196 rows of 7 columns (1372 observations): experience, subscribe, hashedEmail, played_hours, name, gender, and Age. The column names are not standardized, but the data is tidy. A description of the variables is described in the table below (please note that data type is the type determined by personal analysis of the columns, not the given one).\n",
    "\n",
    "| Column Name | Data Type | Description |\n",
    "|:------------|:---------:|:------------|\n",
    "| experience  | fct       | The experience rating of a player, including: Amateur, Beginner, Regular, Pro, Veteran |\n",
    "| subscribe   | lgl       | Whether or not a player has subscribed to a game-related newsletter (TRUE or FALSE) |\n",
    "| hashedEmail | chr       | The email address of the player transformed into a uniform-number string of numbers and letters; a non-recognizable identifier |\n",
    "| played_hours| dbl       | The total number of hours played by a player, shown in a decimal value of hours |\n",
    "| name        | chr       | The first name of the player |\n",
    "| gender      | fct       | The gender of a player, including: Female, Male, Non-binary, Agender, Two-Spirited, Prefer not to say, Other |\n",
    "| Age         | int       | The age of a player, ranging from 9 to 49 or NA \n",
    "\n",
    "\n",
    "The second data set, `sessions.csv`, is also a CSV file, but has 1535 rows of 5 columns of data (7675 observations), including: hashedEmail, start_time, end_time, original_start_time, and original_end_time. This file is a log of all the player gaming sessions on MineCraft, including start and end time, and linked to the players by their hased email. All column names are standardized, except for hashedEmail, but the data is not tidy since there are multiple observations per row and could be pivoted to a longer format. A table detailing the variables is provided below - the data types are once more based on their post-wrangling type.  \n",
    "\n",
    "| Column Name | Data Type | Description |\n",
    "|:------------|:---------:|:------------|\n",
    "| hashedEmail | chr       | The hashed email of the player; a non-recognizable identifier for each session |\n",
    "| start_time  | dtm       | The start date and time of a session, in MM/DD/YYYY and 24-hour (HH:MM) format (human readable) |\n",
    "| end_time    | dtm       | The end date and time of a session, in MM/DD/YYYY and 24-hour (HH:MM) format (human readable) |\n",
    "| original_start_time | int | The start time of the session, in seconds from Jan 1 1970, based how computers track time |\n",
    "| original_end_time   | int | The end time of the session, in seconds from Jan 1 1970, based how computers track time |\n"
   ]
  },
  {
   "cell_type": "markdown",
   "id": "aa648f28-21f8-4a0a-8ee7-04be6dd42510",
   "metadata": {},
   "source": [
    "## Methods & Results"
   ]
  },
  {
   "cell_type": "markdown",
   "id": "1ddb0ac5-03c3-44ff-8b6f-31e951faeb4e",
   "metadata": {},
   "source": [
    "### Overview of Methods"
   ]
  },
  {
   "cell_type": "markdown",
   "id": "8a1dd17a-bcd2-4be8-ad7b-eabf88c1b8ab",
   "metadata": {},
   "source": [
    "### Results"
   ]
  },
  {
   "cell_type": "markdown",
   "id": "d90163d7-3594-497d-b613-454c71bd684b",
   "metadata": {},
   "source": [
    "## Discussion"
   ]
  },
  {
   "cell_type": "code",
   "execution_count": null,
   "id": "fe7f008b-db8d-43a1-aa8a-0035df4f2f76",
   "metadata": {},
   "outputs": [],
   "source": []
  }
 ],
 "metadata": {
  "kernelspec": {
   "display_name": "R",
   "language": "R",
   "name": "ir"
  },
  "language_info": {
   "codemirror_mode": "r",
   "file_extension": ".r",
   "mimetype": "text/x-r-source",
   "name": "R",
   "pygments_lexer": "r",
   "version": "4.3.3"
  }
 },
 "nbformat": 4,
 "nbformat_minor": 5
}
